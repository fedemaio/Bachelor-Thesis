{
 "cells": [
  {
   "cell_type": "code",
   "execution_count": 69,
   "id": "92a0c462",
   "metadata": {},
   "outputs": [],
   "source": [
    "import numpy as np\n",
    "import math\n",
    "import scipy #FEF \n",
    "\n",
    "from numpy import exp\n",
    "from scipy.interpolate import interp1d,InterpolatedUnivariateSpline\n",
    "from scipy.integrate import cumtrapz, quad\n",
    "from scipy.special import erf\n",
    "\n",
    "from WIMpy import DMUtils as DMU\n",
    "\n",
    "import paleopy as paleopy\n",
    "\n",
    "import os.path\n",
    "import matplotlib.pyplot as plt"
   ]
  },
  {
   "cell_type": "markdown",
   "id": "bac5c4f7",
   "metadata": {},
   "source": [
    "# Spontaneous fission from  $^{238}_{92}U$ from GEF"
   ]
  },
  {
   "cell_type": "code",
   "execution_count": 70,
   "id": "dcc7628a",
   "metadata": {},
   "outputs": [],
   "source": [
    "def energySFF(A0,Z0,B0,A1,Z1,B1,A2,Z2,B2): #calcola l'energia cinetica di due particelle (0 padre, 1 e 2 i figli)\n",
    "                                           #A il numero di massa, Z il numero atomico e B la binding energy\n",
    "    mp = 938.3 #MeV\n",
    "    mn = 939.6 #MeV\n",
    "\n",
    "    M  = Z0*mp + (A0-Z0)*mn - B0*A0   #calcole le masse (togliendo giustamente la B.E.)\n",
    "    m1 = Z1*mp + (A1-Z1)*mn - B1*A1\n",
    "    m2 = Z2*mp + (A2-Z2)*mn - B2*A2\n",
    "\n",
    "    Ek1 = (M**2 + m1**2 - m2**2)/(2*M) - m1  #energie cinetiche\n",
    "    Ek2 = (M**2 + m2**2 - m1**2)/(2*M) - m2\n",
    "    \n",
    "    return Ek1,Ek2"
   ]
  },
  {
   "cell_type": "code",
   "execution_count": 71,
   "id": "b50f01d0",
   "metadata": {},
   "outputs": [],
   "source": [
    "Z0,A0,E0 = np.loadtxt(\"U238.dat\", usecols = (1,2,3), unpack='true') #prende i dati dell'Uranio238 come padre"
   ]
  },
  {
   "cell_type": "code",
   "execution_count": 72,
   "id": "cc342c15",
   "metadata": {},
   "outputs": [],
   "source": [
    "#leggo Z, A e B dal file BindingEne e li metto in 3 liste diverse\n",
    "Z_list,A_list,B_list = np.loadtxt(\"BindingEne.txt\", usecols = (0,1,2), unpack='true') \n",
    "\n",
    "Z = [] #Z dei prodotti di fissione\n",
    "A = [] #A dei prodotti di fissione\n",
    "E = [] #K dei prodotti di fissione\n",
    "Z_list0 = [] \n",
    "A_list0 = []\n",
    "\n",
    "N0 = len(Z0) #lunghezza dell'array Z0\n",
    "\n",
    "for i in range (int(N0/3)): #loop ogni 3 elementi di Z0 (ogni nuovo prodotto)\n",
    "    z1 = Z0[3*i + 1] #riscrive in nuovi array i Z e A dei prodotti di fissione\n",
    "    a1 = A0[3*i + 1]\n",
    "    z2 = Z0[3*i + 2]\n",
    "    a2 = A0[3*i + 2]\n",
    "\n",
    "    if(z1 not in Z):        #se z1 e/o z2 non sono gia in Z li scrive in Z_list0\n",
    "        Z_list0.append(z1)\n",
    "        A_list0.append(a1)\n",
    "            \n",
    "    if(z2 not in Z):            \n",
    "        Z_list0.append(z2)\n",
    "        A_list0.append(a2)\n",
    "            \n",
    "    Z.append(Z0[3*i + 1])  #mette i prodotti della fissione nell'array Z\n",
    "    A.append(A0[3*i + 1])\n",
    "        \n",
    "    Z.append(Z0[3*i + 2])\n",
    "    A.append(A0[3*i + 2])\n",
    "    \n",
    "    b1 = 0\n",
    "    b2 = 0\n",
    "    \n",
    "    for j in range(len(Z_list)): #loop che scrive le energie di legame dei vari prodotti della fissione che compaiono nella lista\n",
    "        if(z1 == Z_list[j] and a1 == A_list[j]):\n",
    "            b1 = B_list[j]            \n",
    "        if(z2 == Z_list[j] and a2 == A_list[j]):\n",
    "            b2 = B_list[j]\n",
    "            \n",
    "    e1,e2 = energySFF(238,92,7.570126,a1,z1,b1,a2,z2,b2) #calcola le K con funzione sopra, padre Uranio238 e figli i vari prodotti che ha trovato\n",
    "        \n",
    "    E.append(e1) # MeV #inserisce le K calcolate in liste di energia\n",
    "    E.append(e2)\n",
    "\n",
    "        \n",
    "N = len(Z) #lunghezza della lista con i prodotti della fissione\n",
    "M = len(Z_list) #lunghezza della lista con tutti i possibili Z dei prodotti di fissione\n",
    "\n",
    "# Z[] contains all the possible Z which comes from 238U fission organized as: Z1,Z2,Z1,Z2...(Z1<Z2). \n",
    "# A[] contains their atomic number\n",
    "# E[] contains their kinetik energy"
   ]
  },
  {
   "cell_type": "code",
   "execution_count": 73,
   "id": "a2f7b52f",
   "metadata": {},
   "outputs": [
    {
     "data": {
      "image/png": "[encoded data removed]",
      "text/plain": [
       "<Figure size 864x648 with 1 Axes>"
      ]
     },
     "metadata": {
      "needs_background": "light"
     },
     "output_type": "display_data"
    }
   ],
   "source": [
    "fig = plt.subplots(figsize =(12, 9))\n",
    "plt.hist(A, 80, range = (80,160),color='g') #80 sono i bins\n",
    "plt.title(r\"Fragments distribution from spontaneous fission of $10^5$ nuclei of $^{238}_{92}U$\", fontsize = 20)\n",
    "plt.xlabel(\"Atomic mass\", fontsize = 20)\n",
    "plt.ylabel(\"Counts\", fontsize = 20)\n",
    "plt.savefig(\"FissionFrag.png\",bbox_inches=\"tight\")\n",
    "plt.show()"
   ]
  },
  {
   "cell_type": "markdown",
   "id": "fa971d1a",
   "metadata": {},
   "source": [
    "## SRIM: energy to projected range "
   ]
  },
  {
   "cell_type": "code",
   "execution_count": 74,
   "id": "a1f6d22a",
   "metadata": {
    "scrolled": false
   },
   "outputs": [
    {
     "name": "stdout",
     "output_type": "stream",
     "text": [
      "0\n",
      "10000\n",
      "20000\n",
      "30000\n",
      "40000\n",
      "50000\n",
      "60000\n",
      "70000\n",
      "80000\n",
      "90000\n",
      "100000\n",
      "110000\n",
      "120000\n",
      "130000\n",
      "140000\n",
      "150000\n",
      "160000\n",
      "170000\n",
      "180000\n",
      "190000\n"
     ]
    }
   ],
   "source": [
    "track = [] #lista che contiene la  lunghezza delle tracce di ciascun frammento di fissione\n",
    "\n",
    "#informazioni sui minerali e le loro formule fisiche\n",
    "\n",
    "nuclei = {\"Gypsum\":\" H- O-Ca- S\", \"Halite\":\"Na-Cl.txt\", \"Obsidian\":\"Si-Al-Fe-Ca-Na- K- O.txt\", \n",
    "              \"Cerussite\":\" O-Pb- C.txt\", \"Pyromorphite\":\"Pb- P- O-Cl.txt\", \"Zircon\":\"Zr-Si- O.txt\"} #FEF ho aggiunto la formula chimica dello Zircone\n",
    "\n",
    "mineral = \"Zircon\" #minerale selezionato\n",
    "nuclei = nuclei[mineral] #prende la formula chimica\n",
    "mineral += \"/\" #serve per creare path con il nome del minerale poi\n",
    "\n",
    "appo = 0 #valori intermedi delle tracce\n",
    "\n",
    "for i in range(N): #loop su tutti i frammenti di fissione\n",
    "    \n",
    "    if(i%10000 == 0): #verifica, stampa un indice ogni 104\n",
    "        print(i)\n",
    "    \n",
    "    # e takes the energy of the fragment, x and y take the range obtained in the material from files\n",
    "    # la prima parte e per capire da quale directory prendere i dati, poi quali colonne considerare\n",
    "    #unit_e e unit_x sono per immagazzinare le unità di misura\n",
    "\n",
    "    e,x,y  = np.loadtxt(mineral + str(int(Z[i])) + \" in \" + nuclei, usecols = (0,4,8), unpack='true')\n",
    "    unit_e = np.loadtxt(mineral + str(int(Z[i])) + \" in \" + nuclei, usecols = 1, dtype = str, unpack='true')\n",
    "    unit_x = np.loadtxt(mineral + str(int(Z[i])) + \" in \" + nuclei, usecols = 5, dtype = str, unpack='true')\n",
    "    \n",
    "    n = len(unit_e)  #conversione delle unità di misura\n",
    "    \n",
    "    for j in range(n):    \n",
    "        if(unit_x[j] == \"um\"): #in nanometri\n",
    "            x[j] *= 1e3\n",
    "        else:\n",
    "            x[j] *= 0.1\n",
    "            \n",
    "        if(unit_e[j] == \"eV\"): #in keV\n",
    "            e[j] *= 1e-3\n",
    "        elif(unit_e[j] == \"MeV\"):\n",
    "            e[j] *= 1e3\n",
    "            \n",
    "    Etox = InterpolatedUnivariateSpline(e,x,k = 1) #funzione di scipy che fa interpolazione lineare\n",
    "\n",
    "    if (i % 2 == 0):   #si converte in keV l'energia del frammento\n",
    "        appo = Etox(E[i]*1e3)\n",
    "        #length by the lighter fragment\n",
    "    else: #range aggiunto per il secondo frammento\n",
    "        appo += Etox(E[i]*1e3)        \n",
    "        track.append(appo) #traccia come somma dei due frammenti\n",
    "        #sum of the length by the 2 objects\n",
    "        "
   ]
  },
  {
   "cell_type": "code",
   "execution_count": 75,
   "id": "2248a2da",
   "metadata": {},
   "outputs": [],
   "source": [
    "n_bins = 200\n",
    "x_min = 1 #log scale in nm #FEF modificato per vedere cosa succede nei cm #rimodificato al valore originale\n",
    "x_max = 5 #log scale in nm\n",
    "\n",
    "#I consder the range between 1 nm and 10^5 nm"
   ]
  },
  {
   "cell_type": "code",
   "execution_count": 76,
   "id": "11a56b77",
   "metadata": {
    "scrolled": true
   },
   "outputs": [
    {
     "name": "stdout",
     "output_type": "stream",
     "text": [
      "0\n",
      "10000\n",
      "20000\n",
      "30000\n",
      "40000\n",
      "50000\n",
      "60000\n",
      "70000\n",
      "80000\n",
      "90000\n"
     ]
    }
   ],
   "source": [
    "lenght = np.logspace(x_min,x_max,n_bins) # nm #crea i bins in scala logaritmica\n",
    "count  = np.zeros(n_bins-1) #conta i frammenti che finiscono in ogni bin per creare l'altezza dell'istogramma \n",
    "\n",
    "for i in range(int(N/2)): #su metà dei frammenti\n",
    "    if(i%10000 == 0): #check sul loop\n",
    "        print(i)\n",
    "    for j in range(n_bins-1): #loop su tutti i range di energia\n",
    "        if(track[i] >= lenght[j] and track[i] < lenght[j+1]): #check se la traccia cade in un certo bin\n",
    "            count[j] += 1 #aumenta il conteggio dei bin\n",
    "            #counting the decays which gave a track with length between length[j] and length[j+1]     \n"
   ]
  },
  {
   "cell_type": "markdown",
   "id": "aa8069c8",
   "metadata": {},
   "source": [
    "### Histo"
   ]
  },
  {
   "cell_type": "code",
   "execution_count": 77,
   "id": "59174a9d",
   "metadata": {},
   "outputs": [],
   "source": [
    "l = np.logspace(x_min,x_max,10000)\n",
    "R = np.zeros(10000)\n",
    "\n",
    "for i in range(n_bins-1):\n",
    "    for j in range(10000):\n",
    "        if(l[j] < lenght[i+1] and l[j] >= lenght[i]):\n",
    "            R[j] = count[i]"
   ]
  },
  {
   "cell_type": "markdown",
   "id": "4d3a3a67",
   "metadata": {},
   "source": [
    "## Plot & Write"
   ]
  },
  {
   "cell_type": "code",
   "execution_count": 78,
   "id": "abf1f2b9",
   "metadata": {},
   "outputs": [
    {
     "data": {
      "image/png": "[encoded data removed]",
      "text/plain": [
       "<Figure size 864x576 with 1 Axes>"
      ]
     },
     "metadata": {
      "needs_background": "light"
     },
     "output_type": "display_data"
    }
   ],
   "source": [
    "Na  = 6.022e23\n",
    "tau = 6.45e3 #Myr #tempo di dimezzamento dell'U238\n",
    "t   = 1.0     #Myr #durata dell'esposizione\n",
    "# mass = 1 g\n",
    "#       weight   BR     U-frac    unit mass   decay law\n",
    "\n",
    "factor = 1e-5*(5.4e-7)*((1.2e-6)*Na*1e3/(238))/tau #numero di eventi di fissione per BR, concentrazione di Uranio, unità di massa (1kg) e rate di decadimento\n",
    "\n",
    "#BR = 5.4e-7\n",
    "#f = 1e-5 #to get distribution\n",
    "#U = Na/238*1e3 #number of atoms in a 1 kg of Uranium\n",
    "#decays = (1/tau) #number of decays in per Myr\n",
    "#Ufrac = 1.2*1e-6 # f=1.2 ppm #FEF concentrazione di Uranio nel frammento SANDSTONE MNW283-10 \n",
    "\n",
    "#factor = f*U*decays*Ufrac\n",
    "\n",
    "#print(factor)\n",
    "\n",
    "lenght_width = np.diff(lenght) #range di lunghezza\n",
    "lenght_mid   = lenght[:-1] + lenght_width/2 #punto medio delle lunghezze del singolo bin\n",
    "\n",
    "plt.figure(figsize=(12,8))\n",
    "#plt.loglog(l,R*factor, label='SFF')\n",
    "plt.loglog(lenght_mid,count*factor/lenght_width, label='SFF') #lunghezza x e numero di rinculi per unità di lunghezza y\n",
    "ax = plt.gca()\n",
    "#plt.title(\"Recoils spectra in Obsidian from spontaneous fission of ^{238}_{92}U\")\n",
    "#plt.ylabel(\"dR/dE [recoils/Myr/keV/cmq]\")\n",
    "#plt.ylabel(\"dR/dx [Myr^-1 nm^-1 kg^-1]\")\n",
    "plt.xlabel(\"x [nm]\")\n",
    "plt.grid()\n",
    "plt.legend()\n",
    "plt.xlim(0.1,1e5)\n",
    "#plt.savefig(\"Muon_nucRecoil.jpg\",bbox_inches=\"tight\")\n",
    "plt.show()"
   ]
  },
  {
   "cell_type": "markdown",
   "id": "9ce39568",
   "metadata": {},
   "source": [
    "## Codice modificado da me"
   ]
  },
  {
   "cell_type": "code",
   "execution_count": 79,
   "id": "44e5c832",
   "metadata": {},
   "outputs": [
    {
     "data": {
      "image/png": "[encoded data removed]",
      "text/plain": [
       "<Figure size 1656x648 with 3 Axes>"
      ]
     },
     "metadata": {
      "needs_background": "light"
     },
     "output_type": "display_data"
    }
   ],
   "source": [
    "Na  = 6.022e23\n",
    "tau = 6.45e3 #Myr #tempo di dimezzamento dell'U238\n",
    "t   = 1.0     #Myr #durata dell'esposizione\n",
    "U_frac = [1.82e-6, 2.07e-6, 2.38e-6]  #concentrazioni di Uranio per ogni campione (ppm)\n",
    "density = [235.82e5, 204.98e5, 151.90e5]  #densità misurate nel paper da comparare\n",
    "\n",
    "#creo 3 subplot\n",
    "fig, axes = plt.subplots(1, 3, figsize=(23, 9))\n",
    "\n",
    "# mass = 1 g\n",
    "\n",
    "for i, U_frac in enumerate(U_frac):\n",
    "    #       weight   BR     U-frac    unit mass   decay law\n",
    "\n",
    "    factor = 1e-5*(5.4e-7)*((U_frac)*Na*1e3/(238))/tau #numero di eventi di fissione normalizzati alla concentrazione di Uranio, rate di decadimento e BR\n",
    "\n",
    "#BR = 5.4e-7\n",
    "#f = 1e-5 #to get distribution\n",
    "#U = Na/238*1e3 #number of atoms in a 1 kg of Uranium\n",
    "#decays = (1/tau) #number of decays in per Myr\n",
    "#Ufrac = 1.2*1e-6 # f=1.2 ppm #FEF concentrazione di Uranio nel frammento SANDSTONE MNW283-10 \n",
    "\n",
    "#factor = f*U*decays*Ufrac\n",
    "\n",
    "#print(factor)\n",
    "\n",
    "    lenght_width = np.diff(lenght) #range di lunghezza\n",
    "    lenght_mid   = lenght[:-1] + lenght_width/2 #punto medio delle lunghezze\n",
    "\n",
    "#plt.figure(figsize=(12,8))\n",
    "#plt.loglog(l,R*factor, label='SFF')\n",
    "    axes[i].loglog(lenght_mid,count*factor/lenght_width, label='SFF', color='blue') #lunghezza x e numero di rinculi per unità di lunghezza y\n",
    "    paper_values = np.full(len(lenght_mid), density[i]) \n",
    "    axes[i].loglog(lenght_mid, paper_values, label='Expected', color='red') #plot dei valori del paper\n",
    "\n",
    "    ax = plt.gca() #cos'è?\n",
    "#plt.title(\"Recoils spectra in Obsidian from spontaneous fission of ^{238}_{92}U\")\n",
    "#plt.ylabel(\"dR/dE [recoils/Myr/keV/cmq]\")\n",
    "#plt.ylabel(\"dR/dx [Myr^-1 nm^-1 kg^-1]\")\n",
    "    axes[i].set_xlabel(\"x [nm]\")\n",
    "    axes[i].set_ylabel(\"Recoil Count\")\n",
    "    axes[i].grid()\n",
    "    axes[i].legend()\n",
    "    axes[i].set_xlim(1e4,3e4) #FEF modificato per vedere cosa succede nei cm (valori originari (0.1,1e5)) (1.7e4,2.4e4)=0.017 e 0.024 cm, 17 e 24 um\n",
    "#plt.savefig(\"Muon_nucRecoil.jpg\",bbox_inches=\"tight\")\n",
    "plt.show()"
   ]
  },
  {
   "cell_type": "code",
   "execution_count": 80,
   "id": "ab08d493",
   "metadata": {},
   "outputs": [],
   "source": [
    "f = open(\"Zircon_fission.dat\", \"w\")\n",
    "print(\"# Spontaneous Fission Fragments of Uranium-238\", file = f)\n",
    "print(\"# Data from GEF\", file = f)\n",
    "print(\"# x [nm] , MNW283-10 [tracks/cm^2] , PA770-7 [tracks/cm^2] , PA797-2 [tracks/cm^2]\", file=f) # FEF questo quello originale print(\"# x [nm] , dR/dx [1/nm/kg/Myr]\", file = f)"
   ]
  },
  {
   "cell_type": "code",
   "execution_count": 103,
   "id": "5d0fc7df",
   "metadata": {},
   "outputs": [
    {
     "data": {
      "image/png": "[encoded data removed]",
      "text/plain": [
       "<Figure size 1656x648 with 3 Axes>"
      ]
     },
     "metadata": {
      "needs_background": "light"
     },
     "output_type": "display_data"
    }
   ],
   "source": [
    "Na  = 6.022e23 #numero di Avogadro\n",
    "tau = 6.45e3 #Myr #vita media dell'U238\n",
    "t   = 1.0     #Myr #durata dell'esposizione\n",
    "U_frac = [1.82e-6, 2.07e-6, 2.38e-6]  #concentrazioni di Uranio per ogni campione (ppm)\n",
    "density = [235.82e5, 204.98e5, 151.90e5]  #densità misurate nel paper da comparare\n",
    "zircon_density = 4.65  #g/cm^3\n",
    "\n",
    "sff_tot=np.zeros(3)#FEF array con le somme di tutte le tracce, 3 dim perchè una per ogni valore di U_frac\n",
    "\n",
    "#creo 3 subplot\n",
    "fig, axes = plt.subplots(1, 3, figsize=(23, 9))\n",
    "\n",
    "# mass = 1 g\n",
    "\n",
    "for i, U_frac in enumerate(U_frac):\n",
    "    #       weight   BR     U-frac    unit mass   decay law\n",
    "\n",
    "    factor = 1e-5*(5.4e-7)*((U_frac)*Na*1e3/(238))/tau #numero di eventi di fissioneper 1 kg di Uranio, la concentrazione, vita media e BR\n",
    "    \n",
    "\n",
    "    sff=count*factor*500*zircon_density*2e-3*4/pow(math.pi,2) #densità di tracce al cm^2 che sono contate in ciascun bin (500 Myr, 2e-3 correzione per i cm, 4 e pi sono la media sugli angoli in 3 dim)\n",
    "    sff_tot[i] = np.sum(sff[sff != 0])  # Somma solo gli sff non nulli    \n",
    "    paper_values = np.full(len(lenght_mid), density[i])\n",
    "    difference=count*factor*1e6*zircon_density*1e-7-paper_values\n",
    "#BR = 5.4e-7\n",
    "#f = 1e-5 #to get distribution\n",
    "#U = Na/238*1e3 #number of atoms in a 1 kg of Uranium\n",
    "#decays = (1/tau) #number of decays in per Myr\n",
    "#Ufrac = 1.2*1e-6 # f=1.2 ppm #FEF concentrazione di Uranio nel frammento SANDSTONE MNW283-10 \n",
    "\n",
    "#factor = f*U*decays*Ufrac\n",
    "\n",
    "    lenght_width = np.diff(lenght) #range di lunghezza\n",
    "    lenght_mid   = lenght[:-1] + lenght_width/2 #punto medio delle lunghezze\n",
    "\n",
    "#plt.figure(figsize=(12,8))\n",
    "#plt.loglog(l,R*factor, label='SFF')\n",
    "    axes[i].loglog(lenght_mid, sff, label='SFF', color='blue') #lunghezza x e numero di rinculi per unità di lunghezza y #FEF moltiplico per il tempo di esposizione e per la densità del minerale\n",
    "    axes[i].loglog(lenght_mid, paper_values, label='Expected', color='green') #plot dei valori del paper\n",
    "    #calcola la differenza tra i due dati\n",
    "    #axes[i].loglog(lenght_mid, abs(difference), label='|Difference|', color='red')\n",
    "\n",
    "    #scrivo i dati nel file di output\n",
    "    #for j in range(nbin-1):\n",
    "        \n",
    "    #print(\"Lunghezza di U_frac:\", len(U_frac))\n",
    "\n",
    "    #print(\"Lunghezza di difference:\", len(difference))\n",
    "    #print(U_frac)\n",
    "\n",
    "    ax = plt.gca() #cos'è?\n",
    "#plt.title(\"Recoils spectra in Obsidian from spontaneous fission of ^{238}_{92}U\")\n",
    "#plt.ylabel(\"dR/dE [recoils/Myr/keV/cmq]\")\n",
    "#plt.ylabel(\"dR/dx [Myr^-1 nm^-1 kg^-1]\")\n",
    "    axes[i].set_xlabel(\"x [nm]\")\n",
    "    axes[i].set_ylabel(\"Recoil Count\")\n",
    "    axes[i].grid(True)\n",
    "    axes[i].legend()\n",
    "    axes[i].set_xlim(1e4,3e4) #FEF modificato per vedere cosa succede nei cm (valori originari (0.1,1e5)) (1.7e4,2.4e4)=0.017 e 0.024 cm, 17 e 24 um\n",
    "#plt.savefig(\"Muon_nucRecoil.jpg\",bbox_inches=\"tight\")\n",
    "f.close()\n",
    "plt.show()"
   ]
  },
  {
   "cell_type": "code",
   "execution_count": 115,
   "id": "5d14837a",
   "metadata": {},
   "outputs": [],
   "source": [
    "d = open(\"Zircon_fission_delta.dat\", \"w\")\n",
    "print(\"# Spontaneous Fission Fragments of Uranium-238\", file = d)\n",
    "print(\"# Data from GEF\", file = d)\n",
    "print(\"# U-frac\\t rho_expected [tracks/cm^2]\\t rho_sff [tracks/cm^2]\\t delta\", file=d) #tabella che contiene la correzione da moltiplicare al codice per ottenere risultati reali\n",
    "\n",
    "U_frac = [1.82e-6, 2.07e-6, 2.38e-6]  #concentrazioni di Uranio per ogni campione (ppm)\n",
    "density = [235.82e5, 204.98e5, 151.90e5]  #densità misurate nel paper da comparare\n",
    "\n",
    "for i in range(0,3):\n",
    "    print(\"{:.2e}\\t{:.4e}\\t{:.4e}\\t{:.4}\\t{:.4}\".format(U_frac[i], density[i], sff_tot[i], sff_tot[i]/density[i], density[i]/sff_tot[i]), file=d) #stampa i vari valori in notazione scientifica e separati da un tab\n",
    "\n",
    "d.close()\n"
   ]
  }
 ],
 "metadata": {
  "kernelspec": {
   "display_name": "base",
   "language": "python",
   "name": "python3"
  },
  "language_info": {
   "codemirror_mode": {
    "name": "ipython",
    "version": 3
   },
   "file_extension": ".py",
   "mimetype": "text/x-python",
   "name": "python",
   "nbconvert_exporter": "python",
   "pygments_lexer": "ipython3",
   "version": "3.9.12"
  }
 },
 "nbformat": 4,
 "nbformat_minor": 5
}
