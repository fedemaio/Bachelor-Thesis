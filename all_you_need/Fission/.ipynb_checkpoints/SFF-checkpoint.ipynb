{
 "cells": [
  {
   "cell_type": "code",
   "execution_count": 4,
   "metadata": {},
   "outputs": [],
   "source": [
    "import numpy as np\n",
    "import math\n",
    "\n",
    "from scipy.interpolate import interp1d,InterpolatedUnivariateSpline\n",
    "from scipy.integrate import cumtrapz, quad\n",
    "from scipy.special import erf\n",
    "\n",
    "from WIMpy import DMUtils as DMU\n",
    "\n",
    "from matplotlib import pyplot as plt\n",
    "from matplotlib.ticker import LogLocator\n",
    "\n",
    "import matplotlib as mpl\n",
    "from matplotlib import rc\n",
    "rc('text', usetex=True)\n",
    "rc('font',**{'family':'sans-serif','sans-serif':['cmr']})\n",
    "rc('font',**{'family':'serif','serif':['cmr']})\n",
    "rc('font', size=16)\n",
    "\n",
    "mpl.rcParams['xtick.top'] = True\n",
    "mpl.rcParams['ytick.right'] = True\n",
    "\n",
    "import paleopy as paleopy\n",
    "\n",
    "import os.path"
   ]
  },
  {
   "cell_type": "markdown",
   "metadata": {},
   "source": [
    "# Spontaneous fission from  $^{238}_{92}U$ from GEF"
   ]
  },
  {
   "cell_type": "code",
   "execution_count": 8,
   "metadata": {},
   "outputs": [],
   "source": [
    "def energySFF(A0,Z0,B0,A1,Z1,B1,A2,Z2,B2):\n",
    "\n",
    "    mp = 938.3 #MeV\n",
    "    mn = 939.6 #MeV\n",
    "\n",
    "    M  = Z0*mp + (A0-Z0)*mn - B0*A0\n",
    "    m1 = Z1*mp + (A1-Z1)*mn - B1*A1\n",
    "    m2 = Z2*mp + (A2-Z2)*mn - B2*A2\n",
    "\n",
    "    Ek1 = (M**2 + m1**2 - m2**2)/(2*M) - m1\n",
    "    Ek2 = (M**2 + m2**2 - m1**2)/(2*M) - m2\n",
    "    \n",
    "    return Ek1,Ek2"
   ]
  },
  {
   "cell_type": "code",
   "execution_count": 9,
   "metadata": {},
   "outputs": [],
   "source": [
    "Z0,A0,E0 = np.loadtxt(\"U238\", usecols = (1,2,3), unpack='true')"
   ]
  },
  {
   "cell_type": "code",
   "execution_count": 10,
   "metadata": {},
   "outputs": [],
   "source": [
    "Z_list,A_list,B_list = np.loadtxt(\"BindingEne.txt\", usecols = (0,1,2), unpack='true')\n",
    "\n",
    "Z = []\n",
    "A = []\n",
    "E = []\n",
    "Z_list0 = []\n",
    "A_list0 = []\n",
    "\n",
    "N0 = len(Z0)\n",
    "\n",
    "for i in range (int(N0/3)):\n",
    "    z1 = Z0[3*i + 1]\n",
    "    a1 = A0[3*i + 1]\n",
    "    z2 = Z0[3*i + 2]\n",
    "    a2 = A0[3*i + 2]\n",
    "\n",
    "    if(z1 not in Z):\n",
    "        Z_list0.append(z1)\n",
    "        A_list0.append(a1)\n",
    "            \n",
    "    if(z2 not in Z):            \n",
    "        Z_list0.append(z2)\n",
    "        A_list0.append(a2)\n",
    "            \n",
    "    Z.append(Z0[3*i + 1])\n",
    "    A.append(A0[3*i + 1])\n",
    "        \n",
    "    Z.append(Z0[3*i + 2])\n",
    "    A.append(A0[3*i + 2])\n",
    "    \n",
    "    b1 = 0\n",
    "    b2 = 0\n",
    "    \n",
    "    for j in range(len(Z_list)):\n",
    "        if(z1 == Z_list[j] and a1 == A_list[j]):\n",
    "            b1 = B_list[j]            \n",
    "        if(z2 == Z_list[j] and a2 == A_list[j]):\n",
    "            b2 = B_list[j]\n",
    "            \n",
    "    e1,e2 = energySFF(238,92,7.570126,a1,z1,b1,a2,z2,b2)\n",
    "        \n",
    "    E.append(e1) # MeV\n",
    "    E.append(e2)\n",
    "\n",
    "#print(Z_list0)\n",
    "#print(A_list0)\n",
    "        \n",
    "N = len(Z)\n",
    "M = len(Z_list)"
   ]
  },
  {
   "cell_type": "code",
   "execution_count": 11,
   "metadata": {},
   "outputs": [
    {
     "data": {
      "image/png": "[encoded data removed]",
      "text/plain": [
       "<Figure size 864x648 with 1 Axes>"
      ]
     },
     "metadata": {
      "needs_background": "light"
     },
     "output_type": "display_data"
    }
   ],
   "source": [
    "fig = plt.subplots(figsize =(12, 9))\n",
    "plt.hist(A, 80, range = (80,160))\n",
    "#plt.hist(np.log10(E),80,log=True)\n",
    "plt.title(r\"Fragments distribution from spontaneous fission of $10^5$ nuclei of $^{238}_{92}U$\")\n",
    "plt.xlabel(\"Atomic mass\")\n",
    "plt.ylabel(\"Count\")\n",
    "#plt.savefig(\"Muon_nuclides.jpg\",bbox_inches=\"tight\")\n",
    "plt.show()"
   ]
  },
  {
   "cell_type": "markdown",
   "metadata": {},
   "source": [
    "## SRIM: energy to projected range "
   ]
  },
  {
   "cell_type": "code",
   "execution_count": 12,
   "metadata": {
    "scrolled": false
   },
   "outputs": [
    {
     "name": "stdout",
     "output_type": "stream",
     "text": [
      "200000\n",
      "0\n",
      "10000\n",
      "20000\n",
      "30000\n",
      "40000\n",
      "50000\n",
      "60000\n",
      "70000\n",
      "80000\n",
      "90000\n",
      "100000\n",
      "110000\n",
      "120000\n",
      "130000\n",
      "140000\n",
      "150000\n",
      "160000\n",
      "170000\n",
      "180000\n",
      "190000\n"
     ]
    }
   ],
   "source": [
    "track = []\n",
    "#strag = []\n",
    "\n",
    "print(N)\n",
    "\n",
    "mineral = 'Halite/'\n",
    "nuclei  = 'Na-Cl'\n",
    "\n",
    "appo = 0\n",
    "\n",
    "for i in range(N):\n",
    "    \n",
    "    if(i%10000 == 0):\n",
    "        print(i)\n",
    "    \n",
    "    e,x,y  = np.loadtxt(mineral + str(int(Z[i])) + \" in \" + nuclei, usecols = (0,4,8), unpack='true')\n",
    "    unit_e = np.loadtxt(mineral + str(int(Z[i])) + \" in \" + nuclei, usecols = 1, dtype = str, unpack='true')\n",
    "    unit_x = np.loadtxt(mineral + str(int(Z[i])) + \" in \" + nuclei, usecols = 5, dtype = str, unpack='true')\n",
    "    #unit_y = np.loadtxt(mineral + str(int(Z[i])) + \" in \" + nuclei, usecols = 9, dtype = str, unpack='true')\n",
    "    \n",
    "    n = len(unit_e)\n",
    "    \n",
    "    for j in range(n):    \n",
    "        if(unit_x[j] == \"um\"):\n",
    "            x[j] *= 1e3\n",
    "        else:\n",
    "            x[j] *= 0.1\n",
    "       \n",
    "        '''if(unit_y[i] == \"um\"):\n",
    "            y[i] *= 1e3\n",
    "        else:\n",
    "            y[i] *= 0.1'''\n",
    "            \n",
    "        if(unit_e[j] == \"eV\"):\n",
    "            e[j] *= 1e-3\n",
    "        elif(unit_e[j] == \"MeV\"):\n",
    "            e[j] *= 1e3\n",
    "            \n",
    "    Etox = InterpolatedUnivariateSpline(e,x,k = 1)\n",
    "    #Etoy = InterpolatedUnivariateSpline(e,y,k = 1)\n",
    "    \n",
    "    if (i % 2 == 0):   \n",
    "        appo = Etox(E[i]*1e3)\n",
    "    else:\n",
    "        appo += Etox(E[i]*1e3)        \n",
    "        track.append(appo)\n",
    "        \n",
    "    #track.append(Etox(E[i]*1e3))\n",
    "    #strag.append(Etoy(E[i]*1e3))\n",
    "    \n",
    "#print(min(track))"
   ]
  },
  {
   "cell_type": "code",
   "execution_count": 13,
   "metadata": {},
   "outputs": [],
   "source": [
    "n_bins = 200\n",
    "x_min = 0 #log scale in nm\n",
    "x_max = 5 #log scale in nm"
   ]
  },
  {
   "cell_type": "code",
   "execution_count": 14,
   "metadata": {
    "scrolled": true
   },
   "outputs": [
    {
     "name": "stdout",
     "output_type": "stream",
     "text": [
      "0\n",
      "10000\n",
      "20000\n",
      "30000\n",
      "40000\n",
      "50000\n",
      "60000\n",
      "70000\n",
      "80000\n",
      "90000\n"
     ]
    }
   ],
   "source": [
    "lenght = np.logspace(x_min,x_max,n_bins) # nm\n",
    "count  = np.zeros(n_bins-1)\n",
    "\n",
    "for i in range(int(N/2)):\n",
    "    if(i%10000 == 0):\n",
    "        print(i)\n",
    "    for j in range(n_bins-1):\n",
    "        if(track[i] >= lenght[j] and track[i] < lenght[j+1]):\n",
    "            count[j] += 1"
   ]
  },
  {
   "cell_type": "markdown",
   "metadata": {},
   "source": [
    "### Histo"
   ]
  },
  {
   "cell_type": "code",
   "execution_count": 15,
   "metadata": {},
   "outputs": [],
   "source": [
    "l = np.logspace(x_min,x_max,10000)\n",
    "R = np.zeros(10000)\n",
    "\n",
    "for i in range(n_bins-1):\n",
    "    for j in range(10000):\n",
    "        if(l[j] < lenght[i+1] and l[j] >= lenght[i]):\n",
    "            R[j] = count[i]"
   ]
  },
  {
   "cell_type": "markdown",
   "metadata": {},
   "source": [
    "## Plot & Write"
   ]
  },
  {
   "cell_type": "code",
   "execution_count": 33,
   "metadata": {},
   "outputs": [
    {
     "data": {
      "image/png": "[encoded data removed]",
      "text/plain": [
       "<Figure size 864x576 with 1 Axes>"
      ]
     },
     "metadata": {
      "needs_background": "light"
     },
     "output_type": "display_data"
    }
   ],
   "source": [
    "Na  = 6.022e23\n",
    "tau = 6.45e3 #Myr \n",
    "t   = 1.0     #Myr\n",
    "# mass = 1 g\n",
    "#       weight   BR     U-frac    unit mass   decay law\n",
    "factor = 1e-5*(5.4e-7)*((1e-10)*Na*1e3/(238))/tau\n",
    "\n",
    "#print(factor)\n",
    "\n",
    "lenght_width = np.diff(lenght)\n",
    "lenght_mid   = lenght[:-1] + lenght_width/2\n",
    "\n",
    "plt.figure(figsize=(12,8))\n",
    "#plt.loglog(l,R*factor, label='SFF')\n",
    "plt.loglog(lenght_mid,count*factor/lenght_width, label='SFF')\n",
    "ax = plt.gca()\n",
    "plt.title(r\"Recoils spectra in halite from spontaneous fission of $^{238}_{92}U$\")\n",
    "#plt.ylabel(\"dR/dE [recoils/Myr/keV/cmq]\")\n",
    "plt.ylabel(\"R\")\n",
    "plt.xlabel(\"x [nm]\")\n",
    "plt.grid()\n",
    "plt.legend()\n",
    "plt.xlim(1,1e5)\n",
    "#plt.savefig(\"Muon_nucRecoil.jpg\",bbox_inches=\"tight\")\n",
    "plt.show()"
   ]
  },
  {
   "cell_type": "code",
   "execution_count": 34,
   "metadata": {},
   "outputs": [],
   "source": [
    "f = open(\"Halite_fission.dat\", \"w\")\n",
    "print(\"# dR/dEr [1/keV/kg/Myr] from Spontaneous Fission Fragments of Uranium-238\", file = f)\n",
    "print(\"# Data from GEF\", file = f)\n",
    "print(\"# Er [keV] , Rate\", file = f)\n",
    "\n",
    "for i in range(n_bins-1):\n",
    "    print(lenght_mid[i], count[i]*factor/lenght_width[i], sep = \"  \", file = f)\n",
    "\n",
    "f.close()"
   ]
  },
  {
   "cell_type": "code",
   "execution_count": null,
   "metadata": {},
   "outputs": [],
   "source": []
  }
 ],
 "metadata": {
  "kernelspec": {
   "display_name": "Python 3",
   "language": "python",
   "name": "python3"
  },
  "language_info": {
   "codemirror_mode": {
    "name": "ipython",
    "version": 3
   },
   "file_extension": ".py",
   "mimetype": "text/x-python",
   "name": "python",
   "nbconvert_exporter": "python",
   "pygments_lexer": "ipython3",
   "version": "3.8.10"
  }
 },
 "nbformat": 4,
 "nbformat_minor": 5
}
