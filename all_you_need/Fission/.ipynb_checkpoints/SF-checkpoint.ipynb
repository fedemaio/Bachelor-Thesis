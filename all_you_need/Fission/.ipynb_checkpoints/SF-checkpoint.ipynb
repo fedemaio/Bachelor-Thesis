{
 "cells": [
  {
   "cell_type": "code",
   "execution_count": 2,
   "id": "ec8108d5",
   "metadata": {},
   "outputs": [],
   "source": [
    "import numpy as np\n",
    "import math\n",
    "\n",
    "from scipy.interpolate import interp1d,InterpolatedUnivariateSpline\n",
    "from scipy.integrate import cumtrapz, quad\n",
    "from scipy.special import erf\n",
    "\n",
    "from WIMpy import DMUtils as DMU\n",
    "\n",
    "from matplotlib import pyplot as plt\n",
    "from matplotlib.ticker import LogLocator\n",
    "\n",
    "import matplotlib as mpl\n",
    "from matplotlib import rc\n",
    "rc('text', usetex=True)\n",
    "rc('font',**{'family':'sans-serif','sans-serif':['cmr']})\n",
    "rc('font',**{'family':'serif','serif':['cmr']})\n",
    "rc('font', size=16)\n",
    "\n",
    "mpl.rcParams['xtick.top'] = True\n",
    "mpl.rcParams['ytick.right'] = True\n",
    "\n",
    "import paleopy as paleopy\n",
    "\n",
    "import os.path"
   ]
  },
  {
   "cell_type": "code",
   "execution_count": 14,
   "id": "e403c195",
   "metadata": {},
   "outputs": [],
   "source": [
    "Z0,A0,E0 = np.loadtxt(\"U238\", usecols = (1,2,3), unpack='true')"
   ]
  },
  {
   "cell_type": "code",
   "execution_count": 15,
   "id": "fb911db4",
   "metadata": {},
   "outputs": [],
   "source": [
    "Z = []\n",
    "A = []\n",
    "E = []\n",
    "Z_list = []\n",
    "\n",
    "N0 = len(Z0)\n",
    "\n",
    "for i in range (N0):\n",
    "    if(Z0[i] != 92):\n",
    "        if(Z0[i] not in Z):\n",
    "            Z_list.append(Z0[i])\n",
    "            #print(Z0[i])\n",
    "        Z.append(Z0[i])\n",
    "        A.append(A0[i])\n",
    "        E.append(E0[i])\n",
    "\n",
    "N = len(Z)\n",
    "M = len(Z_list)        "
   ]
  },
  {
   "cell_type": "code",
   "execution_count": 16,
   "id": "de0017f0",
   "metadata": {
    "scrolled": false
   },
   "outputs": [
    {
     "name": "stdout",
     "output_type": "stream",
     "text": [
      "200000\n",
      "0\n",
      "10000\n",
      "20000\n",
      "30000\n",
      "40000\n",
      "50000\n",
      "60000\n",
      "70000\n",
      "80000\n",
      "90000\n",
      "100000\n",
      "110000\n",
      "120000\n",
      "130000\n",
      "140000\n",
      "150000\n",
      "160000\n",
      "170000\n",
      "180000\n",
      "190000\n"
     ]
    }
   ],
   "source": [
    "trackZr = []\n",
    "stragZr = []\n",
    "\n",
    "print(N)\n",
    "\n",
    "for i in range(N):\n",
    "    \n",
    "    if(i%10000 == 0):\n",
    "        print(i)\n",
    "    \n",
    "    e,x,y  = np.loadtxt(\"Zircon/\" + str(int(Z[i])) + \" in Zr-Si- O\", usecols = (0,4,8), unpack='true')\n",
    "    unit_e = np.loadtxt(\"Zircon/\" + str(int(Z[i])) + \" in Zr-Si- O\", usecols = 1, dtype = str, unpack='true')\n",
    "    unit_x = np.loadtxt(\"Zircon/\" + str(int(Z[i])) + \" in Zr-Si- O\", usecols = 5, dtype = str, unpack='true')\n",
    "    unit_y = np.loadtxt(\"Zircon/\" + str(int(Z[i])) + \" in Zr-Si- O\", usecols = 9, dtype = str, unpack='true')\n",
    "    \n",
    "    n = len(unit_e)\n",
    "    \n",
    "    for i in range(n):    \n",
    "        if(unit_x[i] == \"um\"):\n",
    "            x[i] *= 1e3\n",
    "        else:\n",
    "            x[i] *= 0.1\n",
    "       \n",
    "        if(unit_y[i] == \"um\"):\n",
    "            y[i] *= 1e3\n",
    "        else:\n",
    "            y[i] *= 0.1\n",
    "            \n",
    "        if(unit_e[i] == \"eV\"):\n",
    "            e[i] *= 1e-3\n",
    "        elif(unit_e[i] == \"MeV\"):\n",
    "            e[i] *= 1e3\n",
    "            \n",
    "    Etox = InterpolatedUnivariateSpline(e,x,k = 1)\n",
    "    Etoy = InterpolatedUnivariateSpline(e,y,k = 1)\n",
    "    \n",
    "    trackZr.append(Etox(E[i]*1e3))\n",
    "    stragZr.append(Etoy(E[i]*1e3))\n",
    "    \n",
    "#print(min(track))"
   ]
  },
  {
   "cell_type": "code",
   "execution_count": 88,
   "id": "e274a66d",
   "metadata": {
    "scrolled": true
   },
   "outputs": [
    {
     "name": "stdout",
     "output_type": "stream",
     "text": [
      "0\n",
      "10000\n",
      "20000\n",
      "30000\n",
      "40000\n",
      "50000\n",
      "60000\n",
      "70000\n",
      "80000\n",
      "90000\n",
      "100000\n",
      "110000\n",
      "120000\n",
      "130000\n",
      "140000\n",
      "150000\n",
      "160000\n",
      "170000\n",
      "180000\n",
      "190000\n"
     ]
    }
   ],
   "source": [
    "lenght = np.logspace(2,4,71)\n",
    "countZr  = np.zeros(70)\n",
    "\n",
    "for i in range(N):\n",
    "    if(i%10000 == 0):\n",
    "        print(i)\n",
    "    for j in range(70):\n",
    "        if(trackZr[i] >= lenght[j] and trackZr[i] < lenght[j+1]):\n",
    "            countZr[j] += 77.8"
   ]
  },
  {
   "cell_type": "code",
   "execution_count": 19,
   "id": "bd57a1c0",
   "metadata": {
    "scrolled": true
   },
   "outputs": [
    {
     "name": "stdout",
     "output_type": "stream",
     "text": [
      "200000\n",
      "0\n",
      "10000\n",
      "20000\n",
      "30000\n",
      "40000\n",
      "50000\n",
      "60000\n",
      "70000\n",
      "80000\n",
      "90000\n",
      "100000\n",
      "110000\n",
      "120000\n",
      "130000\n",
      "140000\n",
      "150000\n",
      "160000\n",
      "170000\n",
      "180000\n",
      "190000\n"
     ]
    }
   ],
   "source": [
    "trackAp = []\n",
    "stragAp = []\n",
    "\n",
    "print(N)\n",
    "\n",
    "for i in range(N):\n",
    "    \n",
    "    if(i%10000 == 0):\n",
    "        print(i)\n",
    "    \n",
    "    e,x,y  = np.loadtxt(\"Apatite/\" + str(int(Z[i])) + \" in Ca- P- O- F\", usecols = (0,4,8), unpack='true')\n",
    "    unit_e = np.loadtxt(\"Apatite/\" + str(int(Z[i])) + \" in Ca- P- O- F\", usecols = 1, dtype = str, unpack='true')\n",
    "    unit_x = np.loadtxt(\"Apatite/\" + str(int(Z[i])) + \" in Ca- P- O- F\", usecols = 5, dtype = str, unpack='true')\n",
    "    unit_y = np.loadtxt(\"Apatite/\" + str(int(Z[i])) + \" in Ca- P- O- F\", usecols = 9, dtype = str, unpack='true')\n",
    "    \n",
    "    n = len(unit_e)\n",
    "    \n",
    "    for i in range(n):    \n",
    "        if(unit_x[i] == \"um\"):\n",
    "            x[i] *= 1e3\n",
    "        else:\n",
    "            x[i] *= 0.1\n",
    "       \n",
    "        if(unit_y[i] == \"um\"):\n",
    "            y[i] *= 1e3\n",
    "        else:\n",
    "            y[i] *= 0.1\n",
    "            \n",
    "        if(unit_e[i] == \"eV\"):\n",
    "            e[i] *= 1e-3\n",
    "        elif(unit_e[i] == \"MeV\"):\n",
    "            e[i] *= 1e3\n",
    "            \n",
    "    Etox = InterpolatedUnivariateSpline(e,x,k = 1)\n",
    "    Etoy = InterpolatedUnivariateSpline(e,y,k = 1)\n",
    "    \n",
    "    trackAp.append(Etox(E[i]*1e3))\n",
    "    stragAp.append(Etoy(E[i]*1e3))\n",
    "    \n",
    "#print(min(track))"
   ]
  },
  {
   "cell_type": "code",
   "execution_count": 89,
   "id": "4e954406",
   "metadata": {
    "scrolled": true
   },
   "outputs": [
    {
     "name": "stdout",
     "output_type": "stream",
     "text": [
      "0\n",
      "10000\n",
      "20000\n",
      "30000\n",
      "40000\n",
      "50000\n",
      "60000\n",
      "70000\n",
      "80000\n",
      "90000\n",
      "100000\n",
      "110000\n",
      "120000\n",
      "130000\n",
      "140000\n",
      "150000\n",
      "160000\n",
      "170000\n",
      "180000\n",
      "190000\n"
     ]
    }
   ],
   "source": [
    "lenght = np.logspace(2,4,71)\n",
    "countAp = np.zeros(70)\n",
    "for i in range(N):\n",
    "    if(i%10000 == 0):\n",
    "        print(i)\n",
    "    for j in range(70):\n",
    "        if(trackAp[i] >= lenght[j] and trackAp[i] < lenght[j+1]):\n",
    "            countAp[j] += 2.12e6"
   ]
  },
  {
   "cell_type": "code",
   "execution_count": 90,
   "id": "07fd7f0d",
   "metadata": {},
   "outputs": [],
   "source": [
    "l = np.logspace(2,4,10000)\n",
    "Zr = np.zeros(10000)\n",
    "Ap = np.zeros(10000)\n",
    "\n",
    "for i in range(70):\n",
    "    for j in range(10000):\n",
    "        if(l[j] < lenght[i+1] and l[j] >= lenght[i]):\n",
    "            Zr[j] = countZr[i]\n",
    "            Ap[j] = countAp[i]"
   ]
  },
  {
   "cell_type": "code",
   "execution_count": 95,
   "id": "7106e3eb",
   "metadata": {},
   "outputs": [
    {
     "data": {
      "image/png": "[encoded data removed]",
      "text/plain": [
       "<Figure size 1008x864 with 4 Axes>"
      ]
     },
     "metadata": {
      "needs_background": "light"
     },
     "output_type": "display_data"
    }
   ],
   "source": [
    "l_width = np.diff(lenght)\n",
    "l_mid = lenght[:-1] + l_width/2\n",
    "\n",
    "plt.figure(figsize=(14,12))\n",
    "\n",
    "grid = plt.GridSpec(14, 14, wspace=0.1, hspace=0.00)\n",
    "ax1 = plt.subplot(grid[0:6, 0:6])\n",
    "ax2 = plt.subplot(grid[0:6, 7:])\n",
    "ax3 = plt.subplot(grid[7:, 0:6])\n",
    "ax4 = plt.subplot(grid[7:, 7:])\n",
    "\n",
    "#plt.figure(figsize=(12,8))\n",
    "ax = plt.gca()\n",
    "ax1.loglog(l*1e-3, Zr*0.295, label = r'Zircon age = 1 Gyr')\n",
    "ax1.loglog(l*1e-3, Ap*0.296, label = 'Apatite age = 1 Gyr')\n",
    "#ax1.title(\"Spontaneous fission track\")\n",
    "#ax1.set_xlabel(r\"Track lenght [$\\mu$m]\")\n",
    "ax1.set_ylabel(\"Count\")\n",
    "ax1.legend()\n",
    "#ax1.ylim(1e2,2e11)\n",
    "ax.text(-0.25, 2.1, r\"Zircon mass = 4.5 $\\mu$g\",fontsize=15.0, transform=ax.transAxes)\n",
    "ax.text(-0.25, 2.05, r\"Apatite mass = 3.2 g\",fontsize=15.0, transform=ax.transAxes)\n",
    "\n",
    "ax2.loglog(l*1e-3, Zr*0.0316, label = r'Zircon age = 100 Myr')\n",
    "ax2.loglog(l*1e-3, Ap*0.0317, label = 'Apatite age = 100 Myr')\n",
    "#ax2.title(\"Spontaneous fission track\")\n",
    "#ax2.set_xlabel(r\"Track lenght [$\\mu$m]\")\n",
    "#ax2.set_ylabel(\"Count\")\n",
    "ax2.legend()\n",
    "#ax2.ylim(1e2,2e11)\n",
    "\n",
    "ax3.loglog(l*1e-3, Zr*0.0032, label = r'Zircon age = 10 Myr')\n",
    "ax3.loglog(l*1e-3, Ap*0.0032, label = 'Apatite age = 10 Myr')\n",
    "ax3.set_ylabel(\"Count\")\n",
    "ax3.set_xlabel(r\"Lateral straggling [$\\mu$m]\")\n",
    "ax3.legend()\n",
    "\n",
    "ax4.loglog(l*1e-3, Zr*3.2e-4, label = r'Zircon age = 1 Myr')\n",
    "ax4.loglog(l*1e-3, Ap*3.18e-4, label = 'Apatite age = 1 Myr')\n",
    "ax4.set_xlabel(r\"Lateral straggling [$\\mu$m]\")\n",
    "ax4.legend()\n",
    "\n",
    "plt.savefig(\"SF_Strag.jpg\",bbox_inches=\"tight\")\n",
    "plt.show()"
   ]
  },
  {
   "cell_type": "code",
   "execution_count": null,
   "id": "56206fc6",
   "metadata": {},
   "outputs": [],
   "source": [
    "fig = plt.subplots(figsize =(12, 9))\n",
    "plt.hist(A, 80, range = (80,160))\n",
    "plt.title(r\"Fragments distribution from spontaneous fission of $10^5$ $U_{238}$\")\n",
    "plt.xlabel(\"Atomic mass\")\n",
    "plt.ylabel(\"Count\")\n",
    "#plt.savefig(\"Muon_nuclides.jpg\",bbox_inches=\"tight\")\n",
    "plt.show()"
   ]
  },
  {
   "cell_type": "code",
   "execution_count": null,
   "id": "4c036f24",
   "metadata": {},
   "outputs": [],
   "source": [
    "Zir = paleopy.Mineral(\"Zircon\")\n",
    "Zir.showProperties()\n",
    "Zir.showSRIM()"
   ]
  },
  {
   "cell_type": "code",
   "execution_count": null,
   "id": "3e8896c8",
   "metadata": {},
   "outputs": [],
   "source": [
    "Apa = paleopy.Mineral(\"Apatite\")\n",
    "Apa.showProperties()\n",
    "Apa.showSRIM()"
   ]
  },
  {
   "cell_type": "code",
   "execution_count": null,
   "id": "4df37300",
   "metadata": {},
   "outputs": [],
   "source": [
    "x_bins = np.logspace(2,4,71) #nm\n",
    "x_width = np.diff(x_bins)\n",
    "x_mid = x_bins[:-1] + x_width/2\n",
    "\n",
    "dRdx_neut_Zr = Zir.dRdx_neutrons(x_bins)\n",
    "dRdx_neut_Ap = Apa.dRdx_neutrons(x_bins)\n",
    "\n",
    "fig = plt.subplots(figsize =(12, 9))\n",
    "plt.loglog(x_mid, dRdx_neut_Zr, label='Neutrons from Zircon')\n",
    "plt.loglog(x_mid, dRdx_neut_Ap, label='Neutrons from Apatite')\n",
    "#plt.title(r\"Fragments distribution from spontaneous fission of $10^5$ $U_{238}$\")\n",
    "plt.xlabel(\"Track lenght [nm]\")\n",
    "plt.ylabel(\"Count\")\n",
    "#plt.savefig(\"Muon_nuclides.jpg\",bbox_inches=\"tight\")\n",
    "plt.show()"
   ]
  },
  {
   "cell_type": "code",
   "execution_count": null,
   "id": "c232ec91",
   "metadata": {},
   "outputs": [],
   "source": [
    "t = 1000 #Myr\n",
    "mass_Zr = 4.5e-9 #kg\n",
    "\n",
    "count_neut_Zr = np.zeros(70)\n",
    "count_neut_Ap = np.zeros(70)\n",
    "\n",
    "for i in range(70):\n",
    "    count_neut_Zr[i] = dRdx_neut_Zr[i]*x_width[i]*t*mass_Zr\n",
    "    count_neut_Ap[i] = dRdx_neut_Ap[i]*x_width[i]*t*mass_Ap\n",
    "    \n",
    "l = np.logspace(2,4,10000)\n",
    "neut_Zr = np.zeros(10000)\n",
    "\n",
    "for i in range(70):\n",
    "    for j in range(10000):\n",
    "        if(l[j] < x_bins[i+1] and l[j] >= x_bins[i]):\n",
    "            neut_Zr[j] = count_neut_Zr[i]\n",
    "            neut_Ap[j] = count_neut_Ap[i]"
   ]
  }
 ],
 "metadata": {
  "kernelspec": {
   "display_name": "Python 3",
   "language": "python",
   "name": "python3"
  },
  "language_info": {
   "codemirror_mode": {
    "name": "ipython",
    "version": 3
   },
   "file_extension": ".py",
   "mimetype": "text/x-python",
   "name": "python",
   "nbconvert_exporter": "python",
   "pygments_lexer": "ipython3",
   "version": "3.8.8"
  }
 },
 "nbformat": 4,
 "nbformat_minor": 5
}
