{
 "cells": [
  {
   "cell_type": "code",
   "execution_count": 1,
   "id": "92a0c462",
   "metadata": {},
   "outputs": [
    {
     "ename": "ModuleNotFoundError",
     "evalue": "No module named 'WIMpy'",
     "output_type": "error",
     "traceback": [
      "\u001b[0;31m---------------------------------------------------------------------------\u001b[0m",
      "\u001b[0;31mModuleNotFoundError\u001b[0m                       Traceback (most recent call last)",
      "Input \u001b[0;32mIn [1]\u001b[0m, in \u001b[0;36m<cell line: 10>\u001b[0;34m()\u001b[0m\n\u001b[1;32m      7\u001b[0m \u001b[38;5;28;01mfrom\u001b[39;00m \u001b[38;5;21;01mscipy\u001b[39;00m\u001b[38;5;21;01m.\u001b[39;00m\u001b[38;5;21;01mintegrate\u001b[39;00m \u001b[38;5;28;01mimport\u001b[39;00m cumtrapz, quad\n\u001b[1;32m      8\u001b[0m \u001b[38;5;28;01mfrom\u001b[39;00m \u001b[38;5;21;01mscipy\u001b[39;00m\u001b[38;5;21;01m.\u001b[39;00m\u001b[38;5;21;01mspecial\u001b[39;00m \u001b[38;5;28;01mimport\u001b[39;00m erf\n\u001b[0;32m---> 10\u001b[0m \u001b[38;5;28;01mfrom\u001b[39;00m \u001b[38;5;21;01mWIMpy\u001b[39;00m \u001b[38;5;28;01mimport\u001b[39;00m DMUtils \u001b[38;5;28;01mas\u001b[39;00m DMU\n\u001b[1;32m     12\u001b[0m \u001b[38;5;28;01mimport\u001b[39;00m \u001b[38;5;21;01mpaleopy\u001b[39;00m \u001b[38;5;28;01mas\u001b[39;00m \u001b[38;5;21;01mpaleopy\u001b[39;00m\n\u001b[1;32m     14\u001b[0m \u001b[38;5;28;01mimport\u001b[39;00m \u001b[38;5;21;01mos\u001b[39;00m\u001b[38;5;21;01m.\u001b[39;00m\u001b[38;5;21;01mpath\u001b[39;00m\n",
      "\u001b[0;31mModuleNotFoundError\u001b[0m: No module named 'WIMpy'"
     ]
    }
   ],
   "source": [
    "import numpy as np\n",
    "import math\n",
    "import scipy #FEF \n",
    "\n",
    "from numpy import exp\n",
    "from scipy.interpolate import interp1d,InterpolatedUnivariateSpline\n",
    "from scipy.integrate import cumtrapz, quad\n",
    "from scipy.special import erf\n",
    "\n",
    "from WIMpy import DMUtils as DMU\n",
    "\n",
    "import paleopy as paleopy\n",
    "\n",
    "import os.path"
   ]
  },
  {
   "cell_type": "markdown",
   "id": "bac5c4f7",
   "metadata": {},
   "source": [
    "# Spontaneous fission from  $^{238}_{92}U$ from GEF"
   ]
  },
  {
   "cell_type": "code",
   "execution_count": 6,
   "id": "dcc7628a",
   "metadata": {},
   "outputs": [],
   "source": [
    "def energySFF(A0,Z0,B0,A1,Z1,B1,A2,Z2,B2): #calcola l'energia cinetica di due particelle (0 padre, 1 e 2 i figli)\n",
    "                                           #A il numero di massa, Z il numero atomico e B la binding energy\n",
    "    mp = 938.3 #MeV\n",
    "    mn = 939.6 #MeV\n",
    "\n",
    "    M  = Z0*mp + (A0-Z0)*mn - B0*A0   #calcole le masse (togliendo giustamente la B.E.)\n",
    "    m1 = Z1*mp + (A1-Z1)*mn - B1*A1\n",
    "    m2 = Z2*mp + (A2-Z2)*mn - B2*A2\n",
    "\n",
    "    Ek1 = (M**2 + m1**2 - m2**2)/(2*M) - m1  #energie cinetiche\n",
    "    Ek2 = (M**2 + m2**2 - m1**2)/(2*M) - m2\n",
    "    \n",
    "    return Ek1,Ek2"
   ]
  },
  {
   "cell_type": "code",
   "execution_count": 7,
   "id": "b50f01d0",
   "metadata": {},
   "outputs": [],
   "source": [
    "Z0,A0,E0 = np.loadtxt(\"U238.dat\", usecols = (1,2,3), unpack='true') #prende i dati dell'Uranio238 come padre"
   ]
  },
  {
   "cell_type": "code",
   "execution_count": 8,
   "id": "cc342c15",
   "metadata": {},
   "outputs": [],
   "source": [
    "#leggo Z, A e B dal file BindingEne e li metto in 3 liste diverse\n",
    "Z_list,A_list,B_list = np.loadtxt(\"BindingEne.txt\", usecols = (0,1,2), unpack='true') \n",
    "\n",
    "Z = [] #Z dei prodotti di fissione\n",
    "A = [] #A dei prodotti di fissione\n",
    "E = [] #K dei prodotti di fissione\n",
    "Z_list0 = [] \n",
    "A_list0 = []\n",
    "\n",
    "N0 = len(Z0) #lunghezza dell'array Z0\n",
    "\n",
    "for i in range (int(N0/3)): #loop ogni 3 elementi di Z0 (ogni nuovo prodotto)\n",
    "    z1 = Z0[3*i + 1] #riscrive in nuovi array i Z e A dei prodotti di fissione\n",
    "    a1 = A0[3*i + 1]\n",
    "    z2 = Z0[3*i + 2]\n",
    "    a2 = A0[3*i + 2]\n",
    "\n",
    "    if(z1 not in Z):        #se z1 e/o z2 non sono gia in Z li scrive in Z_list0\n",
    "        Z_list0.append(z1)\n",
    "        A_list0.append(a1)\n",
    "            \n",
    "    if(z2 not in Z):            \n",
    "        Z_list0.append(z2)\n",
    "        A_list0.append(a2)\n",
    "            \n",
    "    Z.append(Z0[3*i + 1])  #mette i prodotti della fissione nell'array Z\n",
    "    A.append(A0[3*i + 1])\n",
    "        \n",
    "    Z.append(Z0[3*i + 2])\n",
    "    A.append(A0[3*i + 2])\n",
    "    \n",
    "    b1 = 0\n",
    "    b2 = 0\n",
    "    \n",
    "    for j in range(len(Z_list)): #loop che scrive le energie di legame dei vari prodotti della fissione che compaiono nella lista\n",
    "        if(z1 == Z_list[j] and a1 == A_list[j]):\n",
    "            b1 = B_list[j]            \n",
    "        if(z2 == Z_list[j] and a2 == A_list[j]):\n",
    "            b2 = B_list[j]\n",
    "            \n",
    "    e1,e2 = energySFF(238,92,7.570126,a1,z1,b1,a2,z2,b2) #calcola le K con funzione sopra, padre Uranio238 e figli i vari prodotti che ha trovato\n",
    "        \n",
    "    E.append(e1) # MeV #inserisce le K calcolate in liste di energia\n",
    "    E.append(e2)\n",
    "\n",
    "        \n",
    "N = len(Z) #lunghezza della lista con i prodotti della fissione\n",
    "M = len(Z_list) #lunghezza della lista con tutti i possibili Z dei prodotti di fissione\n",
    "\n",
    "# Z[] contains all the possible Z which comes from 238U fission organized as: Z1,Z2,Z1,Z2...(Z1<Z2). \n",
    "# A[] contains their atomic number\n",
    "# E[] contains their kinetik energy"
   ]
  },
  {
   "cell_type": "code",
   "execution_count": 9,
   "id": "a2f7b52f",
   "metadata": {},
   "outputs": [
    {
     "ename": "NameError",
     "evalue": "name 'plt' is not defined",
     "output_type": "error",
     "traceback": [
      "\u001b[1;31m---------------------------------------------------------------------------\u001b[0m",
      "\u001b[1;31mNameError\u001b[0m                                 Traceback (most recent call last)",
      "Cell \u001b[1;32mIn[9], line 1\u001b[0m\n\u001b[1;32m----> 1\u001b[0m fig \u001b[38;5;241m=\u001b[39m \u001b[43mplt\u001b[49m\u001b[38;5;241m.\u001b[39msubplots(figsize \u001b[38;5;241m=\u001b[39m(\u001b[38;5;241m12\u001b[39m, \u001b[38;5;241m9\u001b[39m))\n\u001b[0;32m      2\u001b[0m plt\u001b[38;5;241m.\u001b[39mhist(A, \u001b[38;5;241m80\u001b[39m, \u001b[38;5;28mrange\u001b[39m \u001b[38;5;241m=\u001b[39m (\u001b[38;5;241m80\u001b[39m,\u001b[38;5;241m160\u001b[39m),color\u001b[38;5;241m=\u001b[39m\u001b[38;5;124m'\u001b[39m\u001b[38;5;124mg\u001b[39m\u001b[38;5;124m'\u001b[39m) \u001b[38;5;66;03m#80 sono i bins\u001b[39;00m\n\u001b[0;32m      3\u001b[0m plt\u001b[38;5;241m.\u001b[39mtitle(\u001b[38;5;124mr\u001b[39m\u001b[38;5;124m\"\u001b[39m\u001b[38;5;124mFragments distribution from spontaneous fission of $10^5$ nuclei of $^\u001b[39m\u001b[38;5;132;01m{238}\u001b[39;00m\u001b[38;5;124m_\u001b[39m\u001b[38;5;132;01m{92}\u001b[39;00m\u001b[38;5;124mU$\u001b[39m\u001b[38;5;124m\"\u001b[39m, fontsize \u001b[38;5;241m=\u001b[39m \u001b[38;5;241m20\u001b[39m)\n",
      "\u001b[1;31mNameError\u001b[0m: name 'plt' is not defined"
     ]
    }
   ],
   "source": [
    "fig = plt.subplots(figsize =(12, 9))\n",
    "plt.hist(A, 80, range = (80,160),color='g') #80 sono i bins\n",
    "plt.title(r\"Fragments distribution from spontaneous fission of $10^5$ nuclei of $^{238}_{92}U$\", fontsize = 20)\n",
    "plt.xlabel(\"Atomic mass\", fontsize = 20)\n",
    "plt.ylabel(\"Counts\", fontsize = 20)\n",
    "plt.savefig(\"FissionFrag.png\",bbox_inches=\"tight\")\n",
    "plt.show()"
   ]
  },
  {
   "cell_type": "markdown",
   "id": "fa971d1a",
   "metadata": {},
   "source": [
    "## SRIM: energy to projected range "
   ]
  },
  {
   "cell_type": "code",
   "execution_count": 13,
   "id": "a1f6d22a",
   "metadata": {
    "scrolled": false
   },
   "outputs": [
    {
     "ename": "NameError",
     "evalue": "name 'nuclei' is not defined",
     "output_type": "error",
     "traceback": [
      "\u001b[1;31m---------------------------------------------------------------------------\u001b[0m",
      "\u001b[1;31mNameError\u001b[0m                                 Traceback (most recent call last)",
      "Cell \u001b[1;32mIn[13], line 8\u001b[0m\n\u001b[0;32m      4\u001b[0m nuclei_min \u001b[38;5;241m=\u001b[39m {\u001b[38;5;124m\"\u001b[39m\u001b[38;5;124mGypsum\u001b[39m\u001b[38;5;124m\"\u001b[39m:\u001b[38;5;124m\"\u001b[39m\u001b[38;5;124m H- O-Ca- S\u001b[39m\u001b[38;5;124m\"\u001b[39m, \u001b[38;5;124m\"\u001b[39m\u001b[38;5;124mHalite\u001b[39m\u001b[38;5;124m\"\u001b[39m:\u001b[38;5;124m\"\u001b[39m\u001b[38;5;124mNa-Cl.tx\u001b[39m\u001b[38;5;124m\"\u001b[39m, \u001b[38;5;124m\"\u001b[39m\u001b[38;5;124mObsidian\u001b[39m\u001b[38;5;124m\"\u001b[39m:\u001b[38;5;124m\"\u001b[39m\u001b[38;5;124mSi-Al-Fe-Ca-Na- K- O.txt\u001b[39m\u001b[38;5;124m\"\u001b[39m, \n\u001b[0;32m      5\u001b[0m               \u001b[38;5;124m\"\u001b[39m\u001b[38;5;124mCerussite\u001b[39m\u001b[38;5;124m\"\u001b[39m:\u001b[38;5;124m\"\u001b[39m\u001b[38;5;124m O-Pb- C.txt\u001b[39m\u001b[38;5;124m\"\u001b[39m, \u001b[38;5;124m\"\u001b[39m\u001b[38;5;124mPyromorphite\u001b[39m\u001b[38;5;124m\"\u001b[39m:\u001b[38;5;124m\"\u001b[39m\u001b[38;5;124mPb- P- O-Cl.txt\u001b[39m\u001b[38;5;124m\"\u001b[39m, \u001b[38;5;124m\"\u001b[39m\u001b[38;5;124mZircon\u001b[39m\u001b[38;5;124m\"\u001b[39m:\u001b[38;5;124m\"\u001b[39m\u001b[38;5;124mZr-Si-O.txt\u001b[39m\u001b[38;5;124m\"\u001b[39m} \u001b[38;5;66;03m#FEF ho aggiunto la formula chimica dello Zircone\u001b[39;00m\n\u001b[0;32m      7\u001b[0m mineral \u001b[38;5;241m=\u001b[39m \u001b[38;5;124m\"\u001b[39m\u001b[38;5;124mZircon\u001b[39m\u001b[38;5;124m\"\u001b[39m \u001b[38;5;66;03m#minerale selezionato\u001b[39;00m\n\u001b[1;32m----> 8\u001b[0m nuclei \u001b[38;5;241m=\u001b[39m \u001b[43mnuclei\u001b[49m[mineral] \u001b[38;5;66;03m#prende la formula chimica\u001b[39;00m\n\u001b[0;32m      9\u001b[0m mineral \u001b[38;5;241m+\u001b[39m\u001b[38;5;241m=\u001b[39m \u001b[38;5;124m\"\u001b[39m\u001b[38;5;124m/\u001b[39m\u001b[38;5;124m\"\u001b[39m \u001b[38;5;66;03m#serve per creare path con il nome del minerale poi\u001b[39;00m\n\u001b[0;32m     11\u001b[0m appo \u001b[38;5;241m=\u001b[39m \u001b[38;5;241m0\u001b[39m \u001b[38;5;66;03m#valori intermedi delle tracce\u001b[39;00m\n",
      "\u001b[1;31mNameError\u001b[0m: name 'nuclei' is not defined"
     ]
    }
   ],
   "source": [
    "track = [] #lista che contiene la  lunghezza delle tracce di ciascun frammento di fissione\n",
    "\n",
    "#informazioni sui minerali e le loro formule fisiche\n",
    "nuclei_min = {\"Gypsum\":\" H- O-Ca- S\", \"Halite\":\"Na-Cl.tx\", \"Obsidian\":\"Si-Al-Fe-Ca-Na- K- O.txt\", \n",
    "              \"Cerussite\":\" O-Pb- C.txt\", \"Pyromorphite\":\"Pb- P- O-Cl.txt\", \"Zircon\":\"Zr-Si-O.txt\"} #FEF ho aggiunto la formula chimica dello Zircone\n",
    "\n",
    "mineral = \"Zircon\" #minerale selezionato\n",
    "nuclei = nuclei[mineral] #prende la formula chimica\n",
    "mineral += \"/\" #serve per creare path con il nome del minerale poi\n",
    "\n",
    "appo = 0 #valori intermedi delle tracce\n",
    "\n",
    "for i in range(N): #loop su tutti i frammenti di fissione\n",
    "    \n",
    "    if(i%10000 == 0): #verifica, stampa un indice ogni 104\n",
    "        print(i)\n",
    "    \n",
    "    # e takes the energy of the fragment, x and y take the range obtained in the material from files\n",
    "    # la prima parte e per capire da quale directory prendere i dati, poi quali colonne considerare\n",
    "    #unit_e e unit_x sono per immagazzinare le unità di misura\n",
    "\n",
    "    e,x,y  = np.loadtxt(mineral + str(int(Z[i])) + \" in \" + nuclei, usecols = (0,4,8), unpack='true')\n",
    "    unit_e = np.loadtxt(mineral + str(int(Z[i])) + \" in \" + nuclei, usecols = 1, dtype = str, unpack='true')\n",
    "    unit_x = np.loadtxt(mineral + str(int(Z[i])) + \" in \" + nuclei, usecols = 5, dtype = str, unpack='true')\n",
    "    \n",
    "    n = len(unit_e)  #conversione delle unità di misura\n",
    "    \n",
    "    for j in range(n):    \n",
    "        if(unit_x[j] == \"um\"): #in nanometri\n",
    "            x[j] *= 1e3\n",
    "        else:\n",
    "            x[j] *= 0.1\n",
    "            \n",
    "        if(unit_e[j] == \"eV\"): #in keV\n",
    "            e[j] *= 1e-3\n",
    "        elif(unit_e[j] == \"MeV\"):\n",
    "            e[j] *= 1e3\n",
    "            \n",
    "    Etox = InterpolatedUnivariateSpline(e,x,k = 1) #funzione di scipy che fa interpolazione lineare\n",
    "\n",
    "    if (i % 2 == 0):   #si converte in keV l'energia del frammento\n",
    "        appo = Etox(E[i]*1e3)\n",
    "        #length by the lighter fragment\n",
    "    else: #range aggiunto per il secondo frammento\n",
    "        appo += Etox(E[i]*1e3)        \n",
    "        track.append(appo) #traccia come somma dei due frammenti\n",
    "        #sum of the length by the 2 objects\n",
    "        "
   ]
  },
  {
   "cell_type": "code",
   "execution_count": 14,
   "id": "2248a2da",
   "metadata": {},
   "outputs": [],
   "source": [
    "n_bins = 200\n",
    "x_min = -1 #log scale in nm\n",
    "x_max = 5 #log scale in nm\n",
    "\n",
    "#I consder the range between 1 nm and 10^5 nm"
   ]
  },
  {
   "cell_type": "code",
   "execution_count": 15,
   "id": "11a56b77",
   "metadata": {
    "scrolled": true
   },
   "outputs": [
    {
     "name": "stdout",
     "output_type": "stream",
     "text": [
      "0\n"
     ]
    },
    {
     "ename": "IndexError",
     "evalue": "list index out of range",
     "output_type": "error",
     "traceback": [
      "\u001b[1;31m---------------------------------------------------------------------------\u001b[0m",
      "\u001b[1;31mIndexError\u001b[0m                                Traceback (most recent call last)",
      "Cell \u001b[1;32mIn[15], line 8\u001b[0m\n\u001b[0;32m      6\u001b[0m     \u001b[38;5;28mprint\u001b[39m(i)\n\u001b[0;32m      7\u001b[0m \u001b[38;5;28;01mfor\u001b[39;00m j \u001b[38;5;129;01min\u001b[39;00m \u001b[38;5;28mrange\u001b[39m(n_bins\u001b[38;5;241m-\u001b[39m\u001b[38;5;241m1\u001b[39m): \u001b[38;5;66;03m#loop su tutti i range di energia\u001b[39;00m\n\u001b[1;32m----> 8\u001b[0m     \u001b[38;5;28;01mif\u001b[39;00m(\u001b[43mtrack\u001b[49m\u001b[43m[\u001b[49m\u001b[43mi\u001b[49m\u001b[43m]\u001b[49m \u001b[38;5;241m>\u001b[39m\u001b[38;5;241m=\u001b[39m lenght[j] \u001b[38;5;129;01mand\u001b[39;00m track[i] \u001b[38;5;241m<\u001b[39m lenght[j\u001b[38;5;241m+\u001b[39m\u001b[38;5;241m1\u001b[39m]): \u001b[38;5;66;03m#check se la traccia cade in un certo bin\u001b[39;00m\n\u001b[0;32m      9\u001b[0m         count[j] \u001b[38;5;241m+\u001b[39m\u001b[38;5;241m=\u001b[39m \u001b[38;5;241m1\u001b[39m \u001b[38;5;66;03m#aumenta il conteggio dei bin\u001b[39;00m\n\u001b[0;32m     10\u001b[0m         \u001b[38;5;66;03m#counting the decays which gave a track with length between length[j] and length[j+1]\u001b[39;00m\n",
      "\u001b[1;31mIndexError\u001b[0m: list index out of range"
     ]
    }
   ],
   "source": [
    "lenght = np.logspace(x_min,x_max,n_bins) # nm #crea i bins in scala logaritmica\n",
    "count  = np.zeros(n_bins-1) #conta i frammenti che finiscono in ogni bin per creare l'altezza dell'istogramma \n",
    "\n",
    "for i in range(int(N/2)): #su metà dei frammenti\n",
    "    if(i%10000 == 0): #check sul loop\n",
    "        print(i)\n",
    "    for j in range(n_bins-1): #loop su tutti i range di energia\n",
    "        if(track[i] >= lenght[j] and track[i] < lenght[j+1]): #check se la traccia cade in un certo bin\n",
    "            count[j] += 1 #aumenta il conteggio dei bin\n",
    "            #counting the decays which gave a track with length between length[j] and length[j+1]"
   ]
  },
  {
   "cell_type": "markdown",
   "id": "aa8069c8",
   "metadata": {},
   "source": [
    "### Histo"
   ]
  },
  {
   "cell_type": "code",
   "execution_count": 16,
   "id": "59174a9d",
   "metadata": {},
   "outputs": [],
   "source": [
    "l = np.logspace(x_min,x_max,10000)\n",
    "R = np.zeros(10000)\n",
    "\n",
    "for i in range(n_bins-1):\n",
    "    for j in range(10000):\n",
    "        if(l[j] < lenght[i+1] and l[j] >= lenght[i]):\n",
    "            R[j] = count[i]"
   ]
  },
  {
   "cell_type": "markdown",
   "id": "4d3a3a67",
   "metadata": {},
   "source": [
    "## Plot & Write"
   ]
  },
  {
   "cell_type": "code",
   "execution_count": 17,
   "id": "abf1f2b9",
   "metadata": {},
   "outputs": [
    {
     "ename": "NameError",
     "evalue": "name 'plt' is not defined",
     "output_type": "error",
     "traceback": [
      "\u001b[1;31m---------------------------------------------------------------------------\u001b[0m",
      "\u001b[1;31mNameError\u001b[0m                                 Traceback (most recent call last)",
      "Cell \u001b[1;32mIn[17], line 22\u001b[0m\n\u001b[0;32m     19\u001b[0m lenght_width \u001b[38;5;241m=\u001b[39m np\u001b[38;5;241m.\u001b[39mdiff(lenght) \u001b[38;5;66;03m#range di lunghezza\u001b[39;00m\n\u001b[0;32m     20\u001b[0m lenght_mid   \u001b[38;5;241m=\u001b[39m lenght[:\u001b[38;5;241m-\u001b[39m\u001b[38;5;241m1\u001b[39m] \u001b[38;5;241m+\u001b[39m lenght_width\u001b[38;5;241m/\u001b[39m\u001b[38;5;241m2\u001b[39m \u001b[38;5;66;03m#punto medio delle lunghezze\u001b[39;00m\n\u001b[1;32m---> 22\u001b[0m \u001b[43mplt\u001b[49m\u001b[38;5;241m.\u001b[39mfigure(figsize\u001b[38;5;241m=\u001b[39m(\u001b[38;5;241m12\u001b[39m,\u001b[38;5;241m8\u001b[39m))\n\u001b[0;32m     23\u001b[0m \u001b[38;5;66;03m#plt.loglog(l,R*factor, label='SFF')\u001b[39;00m\n\u001b[0;32m     24\u001b[0m plt\u001b[38;5;241m.\u001b[39mloglog(lenght_mid,count\u001b[38;5;241m*\u001b[39mfactor\u001b[38;5;241m/\u001b[39mlenght_width, label\u001b[38;5;241m=\u001b[39m\u001b[38;5;124m'\u001b[39m\u001b[38;5;124mSFF\u001b[39m\u001b[38;5;124m'\u001b[39m) \u001b[38;5;66;03m#lunghezza x e numero di rinculi per unità di lunghezza y\u001b[39;00m\n",
      "\u001b[1;31mNameError\u001b[0m: name 'plt' is not defined"
     ]
    }
   ],
   "source": [
    "Na  = 6.022e23\n",
    "tau = 6.45e3 #Myr #tempo di dimezzamento dell'U238\n",
    "t   = 1.0     #Myr #durata dell'esposizione\n",
    "# mass = 1 g\n",
    "#       weight   BR     U-frac    unit mass   decay law\n",
    "\n",
    "factor = 1e-5*(5.4e-7)*((1.2e-6)*Na*1e3/(238))/tau #numero di eventi di fissione normalizzati alla concentrazione di Uranio, rate di decadimento e BR\n",
    "\n",
    "#BR = 5.4e-7\n",
    "#f = 1e-5 #to get distribution\n",
    "#U = Na/238*1e3 #number of atoms in a 1 kg of Uranium\n",
    "#decays = (1/tau) #number of decays in per Myr\n",
    "#Ufrac = 1.2*1e-6 # f=1.2 ppm #FEF concentrazione di Uranio nel frammento SANDSTONE MNW283-10 \n",
    "\n",
    "#factor = f*U*decays*Ufrac\n",
    "\n",
    "#print(factor)\n",
    "\n",
    "lenght_width = np.diff(lenght) #range di lunghezza\n",
    "lenght_mid   = lenght[:-1] + lenght_width/2 #punto medio delle lunghezze\n",
    "\n",
    "plt.figure(figsize=(12,8))\n",
    "#plt.loglog(l,R*factor, label='SFF')\n",
    "plt.loglog(lenght_mid,count*factor/lenght_width, label='SFF') #lunghezza x e numero di rinculi per unità di lunghezza y\n",
    "ax = plt.gca()\n",
    "#plt.title(\"Recoils spectra in Obsidian from spontaneous fission of ^{238}_{92}U\")\n",
    "#plt.ylabel(\"dR/dE [recoils/Myr/keV/cmq]\")\n",
    "#plt.ylabel(\"dR/dx [Myr^-1 nm^-1 kg^-1]\")\n",
    "plt.xlabel(\"x [nm]\")\n",
    "plt.grid()\n",
    "plt.legend()\n",
    "plt.xlim(0.1,1e5)\n",
    "#plt.savefig(\"Muon_nucRecoil.jpg\",bbox_inches=\"tight\")\n",
    "plt.show()"
   ]
  },
  {
   "cell_type": "code",
   "execution_count": 14,
   "id": "ab08d493",
   "metadata": {},
   "outputs": [],
   "source": [
    "f = open(\"Zircon_fission.dat\", \"w\")\n",
    "print(\"# Spontaneous Fission Fragments of Uranium-238\", file = f)\n",
    "print(\"# Data from GEF\", file = f)\n",
    "print(\"# x [nm] , dR/dx [1/nm/kg/Myr]\", file = f)\n",
    "\n",
    "for i in range(n_bins-1):\n",
    "    print(lenght_mid[i], count[i]*factor/lenght_width[i], sep = \"  \", file = f)\n",
    "\n",
    "f.close()"
   ]
  },
  {
   "cell_type": "code",
   "execution_count": 1,
   "id": "585d44cc",
   "metadata": {},
   "outputs": [
    {
     "name": "stdout",
     "output_type": "stream",
     "text": [
      "C:\\Users\\lenovo\\AppData\\Local\\Microsoft\\WindowsApps\\PythonSoftwareFoundation.Python.3.11_qbz5n2kfra8p0\\python.exe\n"
     ]
    }
   ],
   "source": [
    "import sys\n",
    "print(sys.executable)\n"
   ]
  }
 ],
 "metadata": {
  "kernelspec": {
   "display_name": "base",
   "language": "python",
   "name": "python3"
  },
  "language_info": {
   "codemirror_mode": {
    "name": "ipython",
    "version": 3
   },
   "file_extension": ".py",
   "mimetype": "text/x-python",
   "name": "python",
   "nbconvert_exporter": "python",
   "pygments_lexer": "ipython3",
   "version": "3.9.12"
  }
 },
 "nbformat": 4,
 "nbformat_minor": 5
}
